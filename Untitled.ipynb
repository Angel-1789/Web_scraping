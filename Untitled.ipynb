{
 "cells": [
  {
   "cell_type": "code",
   "execution_count": null,
   "metadata": {},
   "outputs": [],
   "source": [
    "from funzioni.LEGGI_SCRIVI_DIC import *\n",
    "\n",
    "reviews_gm = carica(\"reviews_kfc_google_maps\")\n",
    "print(\"\\n\",len(reviews_gm))"
   ]
  },
  {
   "cell_type": "code",
   "execution_count": null,
   "metadata": {},
   "outputs": [],
   "source": [
    "print(\"KFC;1865 Easton Rd, Willow Grove, PA 19090, Stati Uniti;670\" in reviews_gm)"
   ]
  },
  {
   "cell_type": "code",
   "execution_count": null,
   "metadata": {},
   "outputs": [],
   "source": [
    "for i in reviews_gm:\n",
    "    print(i)"
   ]
  },
  {
   "cell_type": "code",
   "execution_count": 1,
   "metadata": {},
   "outputs": [],
   "source": [
    "from funzioni.LEGGI_SCRIVI_DIC import *\n",
    "from funzioni.Selenium_google_maps.estrai_negozi_da_GM import *\n",
    "from funzioni.Selenium_google_maps.estrai_reviews_Google_maps import *"
   ]
  },
  {
   "cell_type": "code",
   "execution_count": 2,
   "metadata": {},
   "outputs": [],
   "source": [
    "PATH_DRIVER = 'chromedriver_win32/chromedriver.exe'\n",
    "LINK = 'https://www.google.com/maps/search/KFC/@40.5436561,-74.8041535,9z'\n",
    "driver = webdriver.Chrome(PATH_DRIVER)\n",
    "driver = init_driver(LINK, driver)"
   ]
  },
  {
   "cell_type": "code",
   "execution_count": 3,
   "metadata": {},
   "outputs": [
    {
     "name": "stdout",
     "output_type": "stream",
     "text": [
      "\n",
      "\t\t\tnon trovo la pagina 'accept cookies' oppure è già stata gestita dalla funzione 'init_driver'\n",
      "\n"
     ]
    }
   ],
   "source": [
    "link = 'https://www.google.com/maps/place/kfc/@40.8223348,-73.9414266,17z/data=!3m1!4b1!4m5!3m4!1s0x89c2f7c2c706f9f9:0x9ebc2f7f08d2e3ed!8m2!3d40.8222108!4d-73.9390017?authuser=0&hl=it'\n",
    "driver = store_pages(link, driver)        \n",
    "driver.switch_to.window(driver.window_handles[1])"
   ]
  },
  {
   "cell_type": "code",
   "execution_count": 4,
   "metadata": {},
   "outputs": [],
   "source": [
    "nome = driver.find_element_by_xpath('//*[contains(concat( \" \", @class, \" \" ), concat( \" \", \"fontHeadlineLarge\", \" \" ))] | //*[contains(concat( \" \", @class, \" \" ), concat( \" \", \"fontHeadlineLarge\", \" \" ))]//span').text\n",
    "print(nome)\n"
   ]
  },
  {
   "cell_type": "code",
   "execution_count": 9,
   "metadata": {},
   "outputs": [
    {
     "name": "stdout",
     "output_type": "stream",
     "text": [
      "QUESTO NEGOZIO NON HA RECENSIONI\n"
     ]
    }
   ],
   "source": [
    "try :\n",
    "    WebDriverWait(driver, 10).until(EC.element_to_be_clickable((By.XPATH, '//*[contains(concat( \" \", @class, \" \" ), concat( \" \", \"Yr7JMd-pane-hSRGPd\", \" \" ))]')))\n",
    "    n = driver.find_element_by_xpath('//*[contains(concat( \" \", @class, \" \" ), concat( \" \", \"Yr7JMd-pane-hSRGPd\", \" \" ))]').text\n",
    "    if (\"reviews\" in n) or (\"recensioni\" in n):\n",
    "        n_reviews = ((n.split())[0]).replace('.','')\n",
    "        print(n_reviews)\n",
    "    else:\n",
    "        print(\"QUESTO NEGOZIO NON HA RECENSIONI\")\n",
    "    return \n",
    "except:\n",
    "    print(\"errore\")"
   ]
  },
  {
   "cell_type": "code",
   "execution_count": 14,
   "metadata": {},
   "outputs": [
    {
     "name": "stdout",
     "output_type": "stream",
     "text": [
      "negozi_kfc\n",
      " 180\n"
     ]
    }
   ],
   "source": [
    "link = 'https://www.google.com/maps/place/KFC/data=!4m5!3m4!1s0x89c4884f8349cbcd:0xbc246542bf38788f!8m2!3d40.9868637!4d-75.1905314?authuser=0&hl=it&rclk=1'\n",
    "\n",
    "from funzioni.LEGGI_SCRIVI_DIC import *\n",
    "\n",
    "negozi = carica(\"negozi_kfc\")\n",
    "print(\"\\n\",len(negozi))"
   ]
  },
  {
   "cell_type": "code",
   "execution_count": 17,
   "metadata": {},
   "outputs": [],
   "source": [
    "neg_1 = list(dict.fromkeys(negozi))\n"
   ]
  },
  {
   "cell_type": "code",
   "execution_count": 18,
   "metadata": {},
   "outputs": [
    {
     "name": "stdout",
     "output_type": "stream",
     "text": [
      "118\n"
     ]
    }
   ],
   "source": [
    "print(len(neg_1))"
   ]
  },
  {
   "cell_type": "code",
   "execution_count": 20,
   "metadata": {},
   "outputs": [
    {
     "data": {
      "text/plain": [
       "94"
      ]
     },
     "execution_count": 20,
     "metadata": {},
     "output_type": "execute_result"
    }
   ],
   "source": [
    "neg_1.index('https://www.google.com/maps/place/kfc/data=!4m5!3m4!1s0x89c2f7c2c706f9f9:0x9ebc2f7f08d2e3ed!8m2!3d40.8223348!4d-73.9392379?authuser=0&hl=it&rclk=1')"
   ]
  },
  {
   "cell_type": "code",
   "execution_count": 19,
   "metadata": {},
   "outputs": [
    {
     "data": {
      "text/plain": [
       "'https://www.google.com/maps/place/kfc/data=!4m5!3m4!1s0x89c2f7c2c706f9f9:0x9ebc2f7f08d2e3ed!8m2!3d40.8223348!4d-73.9392379?authuser=0&hl=it&rclk=1'"
      ]
     },
     "execution_count": 19,
     "metadata": {},
     "output_type": "execute_result"
    }
   ],
   "source": [
    "link = 'https://www.google.com/maps/place/KFC/data=!4m5!3m4!1s0x89c4884f8349cbcd:0xbc246542bf38788f!8m2!3d40.9868637!4d-75.1905314?authuser=0&hl=it&rclk=1'\n",
    "\n",
    "negozi[150]"
   ]
  },
  {
   "cell_type": "code",
   "execution_count": 21,
   "metadata": {},
   "outputs": [
    {
     "name": "stdout",
     "output_type": "stream",
     "text": [
      "\n",
      "\tpreparo file per il salvataggio del file ULTIMO_NEG_REVIEWS   ......   \tfile salvato\n"
     ]
    }
   ],
   "source": [
    "salva_dic(negozi[150],\"ULTIMO_NEG_REVIEWS\")"
   ]
  },
  {
   "cell_type": "code",
   "execution_count": 23,
   "metadata": {},
   "outputs": [
    {
     "name": "stdout",
     "output_type": "stream",
     "text": [
      "NEGOZI_KFC"
     ]
    }
   ],
   "source": [
    "negozi = carica(\"NEGOZI_KFC\")"
   ]
  },
  {
   "cell_type": "code",
   "execution_count": 25,
   "metadata": {},
   "outputs": [
    {
     "name": "stdout",
     "output_type": "stream",
     "text": [
      "\t 160 / 180  negozi utili\n"
     ]
    }
   ],
   "source": [
    "link_negozi = []\n",
    "\n",
    "# print(\"\\n\\t\\t\\tMOSTRA LONGITUDINE\")\n",
    "for link_negozio in negozi:\n",
    "    s = link_negozio.find('!4d') + len('!4d')\n",
    "    t = link_negozio.find('?')\n",
    "    if float(link_negozio[s:t]) < 0:\n",
    "#         print(link_negozio[s:t]\n",
    "        link_negozi.append(link_negozio)\n",
    "print(\"\\t\",len(link_negozi),\"/\",len(negozi),\" negozi utili\")"
   ]
  },
  {
   "cell_type": "code",
   "execution_count": 27,
   "metadata": {},
   "outputs": [
    {
     "name": "stdout",
     "output_type": "stream",
     "text": [
      "ULTIMO_NEG_REVIEWS\n",
      "https://www.google.com/maps/place/kfc/data=!4m5!3m4!1s0x89c2f7c2c706f9f9:0x9ebc2f7f08d2e3ed!8m2!3d40.8223348!4d-73.9392379?authuser=0&hl=it&rclk=1\n",
      "10\n"
     ]
    }
   ],
   "source": [
    "ultimo_lnk_letto = carica(\"ULTIMO_NEG_REVIEWS\")\n",
    "print(\"\")\n",
    "print(ultimo_lnk_letto)\n",
    "\n",
    "temp_link_negozi = link_negozi[link_negozi.index(ultimo_lnk_letto):]\n",
    "print(len(temp_link_negozi))"
   ]
  },
  {
   "cell_type": "code",
   "execution_count": null,
   "metadata": {},
   "outputs": [],
   "source": [
    "address1 = (driver.find_elements_by_xpath(\"//div[@class='Io6YTe fontBodyMedium']\"))[0].text\n",
    "print(address1)"
   ]
  },
  {
   "cell_type": "code",
   "execution_count": null,
   "metadata": {},
   "outputs": [],
   "source": [
    "count = 1\n",
    "for i in address1:\n",
    "    print(i.text)\n",
    "    print(\"\\t\\t\\t\\t\\t\\t\\t---------------------------------------------------------------------------\")\n",
    "    print(count)\n",
    "    count+=1"
   ]
  }
 ],
 "metadata": {
  "kernelspec": {
   "display_name": "Python 3",
   "language": "python",
   "name": "python3"
  },
  "language_info": {
   "codemirror_mode": {
    "name": "ipython",
    "version": 3
   },
   "file_extension": ".py",
   "mimetype": "text/x-python",
   "name": "python",
   "nbconvert_exporter": "python",
   "pygments_lexer": "ipython3",
   "version": "3.8.5"
  }
 },
 "nbformat": 4,
 "nbformat_minor": 4
}

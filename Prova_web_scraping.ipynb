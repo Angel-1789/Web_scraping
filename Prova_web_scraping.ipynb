{
 "cells": [
  {
   "cell_type": "code",
   "execution_count": 1,
   "metadata": {},
   "outputs": [],
   "source": [
    "import bs4 # Beautiful Soup v4 -> libreria di websraping, ci permette di estrarre i dati dalle pagine HTML, pesino dati nascosti\n",
    "import requests # libreria standard di Python per accedere ai siti web, tramitte richieste HTTP\n",
    "import webbrowser # ci da la possibilità di aprire automaticamente il sito web su un browser a piacere"
   ]
  },
  {
   "cell_type": "code",
   "execution_count": 2,
   "metadata": {},
   "outputs": [],
   "source": [
    "LINK = 'https://www.subito.it/annunci-lombardia/vendita/auto/milano/milano/'\n",
    "PRE_LINK_ANNUNCIO = 'https://www.subito.it/auto/'"
   ]
  },
  {
   "cell_type": "raw",
   "metadata": {},
   "source": [
    "inviamo una richiesta HTTP di tipo get all'indirizzo della pagina con annunci. Il risultato della richiesta lo salviamo nella variabile response."
   ]
  },
  {
   "cell_type": "code",
   "execution_count": 3,
   "metadata": {},
   "outputs": [],
   "source": [
    "response = requests.get(LINK) \n",
    "response.raise_for_status() # genera un'eccezione se la risposta è in stato di errore"
   ]
  },
  {
   "cell_type": "raw",
   "metadata": {},
   "source": [
    "Estraiamo il testo dalla risposta. Il testo è in formato html e lo salviamo in una variabile soup"
   ]
  },
  {
   "cell_type": "code",
   "execution_count": 4,
   "metadata": {},
   "outputs": [],
   "source": [
    "soup = bs4.BeautifulSoup(response.text, 'html.parser')"
   ]
  },
  {
   "cell_type": "raw",
   "metadata": {},
   "source": [
    "div contenente la lista degli annunci"
   ]
  },
  {
   "cell_type": "code",
   "execution_count": 5,
   "metadata": {},
   "outputs": [],
   "source": [
    "div_annunci = soup.find('div', class_ = 'jsx-609679759 items visible')"
   ]
  },
  {
   "cell_type": "raw",
   "metadata": {},
   "source": [
    "trovo tutti gli elemeni \"< a ....>\" contenenti un link hipertestuale"
   ]
  },
  {
   "cell_type": "code",
   "execution_count": 6,
   "metadata": {},
   "outputs": [],
   "source": [
    "a_annunci = div_annunci.find_all('a')"
   ]
  },
  {
   "cell_type": "code",
   "execution_count": 9,
   "metadata": {},
   "outputs": [],
   "source": [
    "link_annunci = []"
   ]
  },
  {
   "cell_type": "code",
   "execution_count": 10,
   "metadata": {},
   "outputs": [],
   "source": [
    "for a_annuncio in a_annunci:\n",
    "    link_annuncio = str(a_annuncio.get('href'))\n",
    "    if PRE_LINK_ANNUNCIO in link_annuncio:\n",
    "        link_annunci.append(link_annuncio)"
   ]
  },
  {
   "cell_type": "code",
   "execution_count": 11,
   "metadata": {},
   "outputs": [
    {
     "name": "stdout",
     "output_type": "stream",
     "text": [
      "['https://www.subito.it/auto/mazda-cx-5-2-serie-2018-milano-428592571.htm',\n",
      " 'https://www.subito.it/auto/fiat-500-jolly-spiaggina-milano-428591030.htm',\n",
      " 'https://www.subito.it/auto/alfa-romeo-giulietta-1-6-jtdm-2-105-cv-exclusive-milano-428590908.htm',\n",
      " 'https://www.subito.it/auto/mercedes-benz-a-180-cdi-automatic-executive-milano-428590350.htm',\n",
      " 'https://www.subito.it/auto/nissan-qashqai-2-0-16v-4wd-tekna-tetto-navi-xeno-milano-428590347.htm',\n",
      " 'https://www.subito.it/auto/audi-tt-milano-420561757.htm',\n",
      " 'https://www.subito.it/auto/mercedes-benz-a-45-amg-4matic-automatic-milano-424573588.htm',\n",
      " 'https://www.subito.it/auto/renault-laguna-2-s-01-05-2002-milano-410349902.htm',\n",
      " 'https://www.subito.it/auto/volvo-v70-2-4-d5-summum-milano-428590266.htm',\n",
      " 'https://www.subito.it/auto/mini-countryman-mini-cooper-sd-countryman-all4-a-milano-428590261.htm',\n",
      " 'https://www.subito.it/auto/fiat-500-1-2-pop-milano-428590260.htm',\n",
      " 'https://www.subito.it/auto/citroen-c1-1-0-benzina-milano-428588128.htm',\n",
      " 'https://www.subito.it/auto/lancia-delta-1-4-benzina-milano-428587395.htm',\n",
      " 'https://www.subito.it/auto/dacia-logan-1-6-benzina-milano-428586660.htm',\n",
      " 'https://www.subito.it/auto/dacia-sandero-stepway-1-6-benzina-milano-428585698.htm',\n",
      " 'https://www.subito.it/auto/citroen-berlingo-euro-6-milano-428584677.htm',\n",
      " 'https://www.subito.it/auto/mini-mini-f56-2016-milano-428583294.htm',\n",
      " 'https://www.subito.it/auto/renault-grand-scenic-7-posti-adas-inlclusi-milano-428580187.htm',\n",
      " 'https://www.subito.it/auto/smart-for-two-700cc-con-70-000km-pellicola-unica-milano-428579298.htm',\n",
      " 'https://www.subito.it/auto/q7-7-posti-milano-426962582.htm',\n",
      " 'https://www.subito.it/auto/fiat-bravo-1-4-benzina-gpl-2009-neopatentati-milano-428574618.htm',\n",
      " 'https://www.subito.it/auto/mercedes-classe-a150-elegance-benzina-milano-428566775.htm',\n",
      " 'https://www.subito.it/auto/skoda-kodiaq-2017-1-4-tsi-executive-milano-428577368.htm',\n",
      " 'https://www.subito.it/auto/renault-clio-1-2-16v-cat-5-porte-pack-dynamique-milano-428576765.htm',\n",
      " 'https://www.subito.it/auto/peugeot-3008-2-0-hdi-150cv-allure-milano-428576759.htm',\n",
      " 'https://www.subito.it/auto/mitsubishi-lancer-1-8-5p-sportback-inform-g-p-l-a-milano-428576753.htm',\n",
      " 'https://www.subito.it/auto/ford-fusion-1-4-16v-5p-x-neopatentati-milano-428576744.htm',\n",
      " 'https://www.subito.it/auto/opel-corsa-1-2-85cv-3-porte-gpl-tech-elective-milano-428576742.htm',\n",
      " 'https://www.subito.it/auto/citroen-c1-2009-in-perfetta-condizioni-milano-428562886.htm',\n",
      " 'https://www.subito.it/auto/volkswagen-golf-1-6-16v-fsi-5p-comfortline-milano-428576195.htm',\n",
      " 'https://www.subito.it/auto/dacia-logan-sw-eruo-6-del-2017-milano-428559633.htm',\n",
      " 'https://www.subito.it/auto/opel-astra-j-milano-428559476.htm',\n",
      " 'https://www.subito.it/auto/citroen-xsara-picasso-1-6-benzina-solo-110-000km-milano-428573905.htm']\n"
     ]
    }
   ],
   "source": [
    "from pprint import pprint\n",
    "pprint(link_annunci)"
   ]
  },
  {
   "cell_type": "code",
   "execution_count": null,
   "metadata": {},
   "outputs": [],
   "source": []
  }
 ],
 "metadata": {
  "kernelspec": {
   "display_name": "Python 3",
   "language": "python",
   "name": "python3"
  },
  "language_info": {
   "codemirror_mode": {
    "name": "ipython",
    "version": 3
   },
   "file_extension": ".py",
   "mimetype": "text/x-python",
   "name": "python",
   "nbconvert_exporter": "python",
   "pygments_lexer": "ipython3",
   "version": "3.8.5"
  }
 },
 "nbformat": 4,
 "nbformat_minor": 4
}

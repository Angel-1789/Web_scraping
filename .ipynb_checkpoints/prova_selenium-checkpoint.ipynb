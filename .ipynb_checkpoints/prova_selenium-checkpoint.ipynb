{
 "cells": [
  {
   "cell_type": "markdown",
   "metadata": {
    "colab_type": "text",
    "id": "view-in-github"
   },
   "source": [
    "<a href=\"https://colab.research.google.com/github/Angel-1789/Web_scraping/blob/main/Progetto_web_scraping.ipynb\" target=\"_parent\"><img src=\"https://colab.research.google.com/assets/colab-badge.svg\" alt=\"Open In Colab\"/></a>"
   ]
  },
  {
   "cell_type": "code",
   "execution_count": 1,
   "metadata": {},
   "outputs": [],
   "source": [
    "from selenium import webdriver\n",
    "from selenium.webdriver.common.keys import Keys\n",
    "import pandas as pd"
   ]
  },
  {
   "cell_type": "markdown",
   "metadata": {
    "id": "DcONYaZLiJ0-"
   },
   "source": [
    "## TEST 1"
   ]
  },
  {
   "cell_type": "code",
   "execution_count": 14,
   "metadata": {},
   "outputs": [],
   "source": [
    "percorso_web_driver = './chromedriver_win32/chromedriver.exe'\n",
    "LINK = 'https://hoopshype.com/salaries/players/'\n",
    "\n",
    "driver = webdriver.Chrome(percorso_web_driver)\n",
    "driver.get(LINK)"
   ]
  },
  {
   "cell_type": "code",
   "execution_count": 15,
   "metadata": {},
   "outputs": [],
   "source": [
    "players = driver.find_elements_by_xpath('//td[@class=\"name\"]')\n",
    "\n",
    "players_list = []\n",
    "for p in range(len(players)):\n",
    "    players_list.append(players[p].text)"
   ]
  },
  {
   "cell_type": "code",
   "execution_count": 16,
   "metadata": {},
   "outputs": [],
   "source": [
    "players_list"
   ]
  },
  {
   "cell_type": "code",
   "execution_count": 19,
   "metadata": {},
   "outputs": [],
   "source": [
    "salaries = driver.find_elements_by_xpath('//td[@class=\"hh-salaries-sorted\"]')\n",
    "\n",
    "salaries_list = []\n",
    "for s in range(len(salaries)):\n",
    "    salaries_list.append(salaries[s].text)"
   ]
  },
  {
   "cell_type": "code",
   "execution_count": null,
   "metadata": {},
   "outputs": [],
   "source": [
    "salaries_list"
   ]
  },
  {
   "cell_type": "markdown",
   "metadata": {},
   "source": [
    "# TEST 2"
   ]
  },
  {
   "cell_type": "code",
   "execution_count": 14,
   "metadata": {},
   "outputs": [],
   "source": [
    "percorso_web_driver = './chromedriver_win32/chromedriver.exe'\n",
    "LINK = 'https://www.google.com/maps/search/KFC/@40.546364,-74.8041465,9z'\n",
    "\n",
    "driver = webdriver.Chrome(percorso_web_driver)\n",
    "driver.get(LINK)"
   ]
  },
  {
   "cell_type": "code",
   "execution_count": null,
   "metadata": {
    "colab": {
     "base_uri": "https://localhost:8080/"
    },
    "id": "yhIetCR-iIgh",
    "outputId": "cf346d89-47bb-48f8-aa45-da3971cff86c",
    "scrolled": true
   },
   "outputs": [],
   "source": [
    "# import time \n",
    "# import datetime;\n",
    "\n",
    "# start = time.time()\n",
    "# inizio = datetime.datetime.now()\n",
    "# %run ./web_scraping.py\n",
    "# print(\"\\ninizio: \",inizio)\n",
    "# print(\"fine: \",datetime.datetime.now())\n",
    "# print(\"tempo trascorso: \",time.time()-start,\" secondi\")"
   ]
  }
 ],
 "metadata": {
  "colab": {
   "collapsed_sections": [],
   "include_colab_link": true,
   "name": "Progetto_web_scraping.ipynb",
   "provenance": []
  },
  "kernelspec": {
   "display_name": "Python 3",
   "language": "python",
   "name": "python3"
  },
  "language_info": {
   "codemirror_mode": {
    "name": "ipython",
    "version": 3
   },
   "file_extension": ".py",
   "mimetype": "text/x-python",
   "name": "python",
   "nbconvert_exporter": "python",
   "pygments_lexer": "ipython3",
   "version": "3.8.5"
  }
 },
 "nbformat": 4,
 "nbformat_minor": 4
}

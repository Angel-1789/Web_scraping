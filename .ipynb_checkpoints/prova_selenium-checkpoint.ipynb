{
 "cells": [
  {
   "cell_type": "markdown",
   "metadata": {
    "id": "view-in-github"
   },
   "source": [
    "<a href=\"https://colab.research.google.com/github/Angel-1789/Web_scraping/blob/main/Progetto_web_scraping.ipynb\" target=\"_parent\"><img src=\"https://colab.research.google.com/assets/colab-badge.svg\" alt=\"Open In Colab\"/></a>"
   ]
  },
  {
   "cell_type": "markdown",
   "metadata": {
    "id": "RtC5MC-a3MVX"
   },
   "source": [
    "# SETUP GOOGLE COLAB"
   ]
  },
  {
   "cell_type": "code",
   "execution_count": null,
   "metadata": {
    "colab": {
     "base_uri": "https://localhost:8080/"
    },
    "executionInfo": {
     "elapsed": 28381,
     "status": "ok",
     "timestamp": 1649948369872,
     "user": {
      "displayName": "Angel Alexander Fierro Cevallos",
      "userId": "12911863032813324464"
     },
     "user_tz": -120
    },
    "id": "hMzv4hIF3Ys7",
    "outputId": "dc86838d-ee9b-4399-fcd1-0e4a3364fa44"
   },
   "outputs": [],
   "source": [
    "# from google.colab import drive\n",
    "# ROOT = '/content/drive'\n",
    "# drive.mount(ROOT, force_remount=True)"
   ]
  },
  {
   "cell_type": "code",
   "execution_count": null,
   "metadata": {
    "colab": {
     "base_uri": "https://localhost:8080/"
    },
    "executionInfo": {
     "elapsed": 361,
     "status": "ok",
     "timestamp": 1649948567928,
     "user": {
      "displayName": "Angel Alexander Fierro Cevallos",
      "userId": "12911863032813324464"
     },
     "user_tz": -120
    },
    "id": "uPLcSC8N3jy0",
    "outputId": "a4448aba-f534-4bd0-af65-cea031076716"
   },
   "outputs": [],
   "source": [
    "# PATH_WEB_SCRAPING_DRIVE = '/MyDrive/UNI_SGI/III Anno/Statitica Spaziale e Ambientale/Progetto'\n",
    "# GIT_REPOSITORY = \"Web_scraping\"\n",
    "# PATH_PROGETTO = ROOT+PATH_WEB_SCRAPING_DRIVE+\"/\"+GIT_REPOSITORY\n",
    "# %cd \"{PATH_PROGETTO}\""
   ]
  },
  {
   "cell_type": "code",
   "execution_count": null,
   "metadata": {
    "colab": {
     "base_uri": "https://localhost:8080/"
    },
    "executionInfo": {
     "elapsed": 37150,
     "status": "ok",
     "timestamp": 1649948849316,
     "user": {
      "displayName": "Angel Alexander Fierro Cevallos",
      "userId": "12911863032813324464"
     },
     "user_tz": -120
    },
    "id": "qW6vS6f33MVZ",
    "outputId": "a3cf5810-a03f-4a40-e38b-1f5f105be23d",
    "scrolled": true
   },
   "outputs": [],
   "source": [
    "# !pip install selenium\n",
    "# !apt-get update \n",
    "# !apt install chromium-chromedriver"
   ]
  },
  {
   "cell_type": "code",
   "execution_count": null,
   "metadata": {
    "colab": {
     "base_uri": "https://localhost:8080/"
    },
    "id": "jlR8EQiq3QDd",
    "outputId": "1dd5612f-092e-40d0-cf08-fab5ffa34deb",
    "scrolled": true
   },
   "outputs": [],
   "source": [
    "# import time \n",
    "# import datetime\n",
    "\n",
    "# inizio = time.time()\n",
    "# start = datetime.datetime.now()\n",
    "# %run ./selenium_Google_Maps.py google\n",
    "# print(\"inizio: \",start)\n",
    "# print(\"fine: \",datetime.datetime.now())\n",
    "# print(\"tempo trascorso: \",time.time()-inizio,\" secondi\")"
   ]
  },
  {
   "cell_type": "markdown",
   "metadata": {
    "id": "PGV4EQJU3MVa"
   },
   "source": [
    "# INIZIO"
   ]
  },
  {
   "cell_type": "code",
   "execution_count": 1,
   "metadata": {
    "colab": {
     "base_uri": "https://localhost:8080/",
     "height": 692
    },
    "executionInfo": {
     "elapsed": 24244,
     "status": "ok",
     "timestamp": 1649889254988,
     "user": {
      "displayName": "Angel Alexander Fierro Cevallos",
      "userId": "12911863032813324464"
     },
     "user_tz": -120
    },
    "id": "Ja7Kefkki_RZ",
    "outputId": "b57df059-f3e9-4668-9fb1-5235393d4f29",
    "scrolled": true
   },
   "outputs": [
    {
     "name": "stdout",
     "output_type": "stream",
     "text": [
      "File NEGOZI_KFC  Trovato\n",
      "\n",
      "trovati : 180  negozi\n",
      "\t 160 / 180  negozi utili\n",
      "\n",
      "File reviews_KFC_google_maps  Trovato\n",
      "\n",
      "dim dizionario negozi reviews: 123 negozi salvati\n",
      "\n",
      "ULTIMO_NEG_REVIEWS\n",
      "\t\t\tnon trovo la pagina 'accept cookies' oppure è già stata gestita dalla funzione 'init_driver'\n",
      "\n",
      "QUESTO NEGOZIO NON HA RECENSIONI\n",
      "key :  kfc;60 Bradhurst Ave., New York, NY 10039, Stati Uniti;0\n",
      "\n",
      " https://www.google.com/maps/place/kfc/data=!4m5!3m4!1s0x89c2f7c2c706f9f9:0x9ebc2f7f08d2e3ed!8m2!3d40.8223348!4d-73.9392379?authuser=0&hl=it&rclk=1\n",
      "Errore 1:  Message: \n",
      "\n",
      "\n",
      "\tSTART: 2022-04-16 12:52:31.615665 \n",
      "\n",
      "inizio:  2022-04-16 12:52:31.615665\n",
      "fine:  2022-04-16 12:52:31.615665\n",
      "tempo trascorso:  0.0  secondi\n",
      "\t\t\terrore durante click more nelle reviews\n",
      "\t\t\terrore durante click more nelle reviews\n",
      "\t\t\terrore durante click more nelle reviews\n",
      "\t\t\terrore durante click more nelle reviews\n",
      "\t dim diz: 124\t<class 'dict'>\n",
      "\n",
      "\n",
      "\tpreparo file per il salvataggio del file ULTIMO_NEG_REVIEWS   ......   \tfile salvato\n",
      "\n",
      "\tpreparo file per il salvataggio del file reviews_KFC_google_maps   ......   \tfile salvato\n",
      "\n",
      "\t\t\tnon trovo la pagina 'accept cookies' oppure è già stata gestita dalla funzione 'init_driver'\n",
      "\n",
      "QUESTO NEGOZIO NON HA RECENSIONI\n",
      "key :  KFC;4250 Broadway, New York, NY 10033, Stati Uniti;0\n",
      "\n",
      " https://www.google.com/maps/place/KFC/data=!4m5!3m4!1s0x89c2f571c77c903d:0x19e58ff3794827fa!8m2!3d40.8498689!4d-73.9356573?authuser=0&hl=it&rclk=1\n",
      "Errore 1:  Message: \n",
      "\n",
      "\n",
      "\tSTART: 2022-04-16 12:52:52.787097 \n",
      "\n",
      "inizio:  2022-04-16 12:52:52.787097\n",
      "fine:  2022-04-16 12:52:52.787097\n",
      "tempo trascorso:  0.0  secondi\n",
      "\t\t\terrore durante click more nelle reviews\n",
      "\t\t\terrore durante click more nelle reviews\n",
      "\t\t\terrore durante click more nelle reviews\n",
      "\t\t\terrore durante click more nelle reviews\n",
      "\t dim diz: 125\t<class 'dict'>\n",
      "\n",
      "\n",
      "\tpreparo file per il salvataggio del file ULTIMO_NEG_REVIEWS   ......   \tfile salvato\n",
      "\n",
      "\tpreparo file per il salvataggio del file reviews_KFC_google_maps   ......   \tfile salvato\n",
      "\n",
      "\t\t\tnon trovo la pagina 'accept cookies' oppure è già stata gestita dalla funzione 'init_driver'\n",
      "\n",
      "key :  KFC;480 Boston Post Rd, Orange, CT 06477, Stati Uniti;338\n",
      "\n",
      " https://www.google.com/maps/place/KFC/data=!4m5!3m4!1s0x89e875c12a68b721:0xaecc24ad90351f8a!8m2!3d41.2563396!4d-73.0137779?authuser=0&hl=it&rclk=1\n",
      "\n",
      "\tSTART: 2022-04-16 12:53:04.605512 \n",
      "\n",
      "\t\tcarico:  10  /  338  reviews\t\t\t\ttempo trascorso:         2.579681634902954 secondi\n",
      "\ttentativo:  1\n",
      "\t\tcarico:  10  /  338  reviews\t\t\t\ttempo trascorso:         5.730021715164185 secondi\n",
      "\t\tcarico:  20  /  338  reviews\t\t\t\ttempo trascorso:         9.421615362167358 secondi\n",
      "\t\tcarico:  30  /  338  reviews\t\t\t\ttempo trascorso:        13.635156869888306 secondi\n",
      "\t\tcarico:  50  /  338  reviews\t\t\t\ttempo trascorso:        18.430077075958252 secondi\n",
      "\t\tcarico:  70  /  338  reviews\t\t\t\ttempo trascorso:        23.863545179367065 secondi\n",
      "\t\tcarico:  90  /  338  reviews\t\t\t\ttempo trascorso:        29.816864013671875 secondi\n",
      "\t\tcarico:  110  /  338  reviews\t\t\t\ttempo trascorso:         36.30545687675476 secondi\n",
      "\t\tcarico:  140  /  338  reviews\t\t\t\ttempo trascorso:         43.36446714401245 secondi\n",
      "\t\tcarico:  170  /  338  reviews\t\t\t\ttempo trascorso:         50.96361184120178 secondi\n",
      "\t\tcarico:  230  /  338  reviews\t\t\t\ttempo trascorso:          59.6222026348114 secondi\n",
      "\t\tcarico:  290  /  338  reviews\t\t\t\ttempo trascorso:         68.46177458763123 secondi\n",
      "\t\tcarico:  338  /  338  reviews\t\t\t\ttempo trascorso:         77.89482092857361 secondi\n",
      "inizio:  2022-04-16 12:53:04.605512\n",
      "fine:  2022-04-16 12:54:22.500333\n",
      "tempo trascorso:  77.89482092857361  secondi\n",
      "\t\t\terrore durante click more nelle reviews\n",
      "\t\t\terrore durante click more nelle reviews\n",
      "\t\t\terrore durante click more nelle reviews\n",
      "\t\t\terrore durante click more nelle reviews\n",
      "\t dim diz: 126\t<class 'dict'>\n",
      "\n",
      "\n",
      "\tpreparo file per il salvataggio del file ULTIMO_NEG_REVIEWS   ......   \tfile salvato\n",
      "\n",
      "\tpreparo file per il salvataggio del file reviews_KFC_google_maps   ......   \tfile salvato\n",
      "\n",
      "\t\t\tnon trovo la pagina 'accept cookies' oppure è già stata gestita dalla funzione 'init_driver'\n",
      "\n",
      "key :  Taco Bell/KFC;947 S Township Line Rd, Royersford, PA 19468, Stati Uniti;221\n",
      "\n",
      " https://www.google.com/maps/place/Taco+Bell%2FKFC/data=!4m5!3m4!1s0x89c68fe27b0c78f5:0x21191697f45041b7!8m2!3d40.1940754!4d-75.5281393?authuser=0&hl=it&rclk=1\n",
      "\n",
      "\tSTART: 2022-04-16 12:54:50.589684 \n",
      "\n",
      "\t\tcarico:  10  /  221  reviews\t\t\t\ttempo trascorso:        2.5812199115753174 secondi\n",
      "\ttentativo:  1\n",
      "\t\tcarico:  10  /  221  reviews\t\t\t\ttempo trascorso:         5.708162307739258 secondi\n",
      "\t\tcarico:  20  /  221  reviews\t\t\t\ttempo trascorso:          9.44844388961792 secondi\n",
      "\t\tcarico:  30  /  221  reviews\t\t\t\ttempo trascorso:        13.884167194366455 secondi\n",
      "\t\tcarico:  50  /  221  reviews\t\t\t\ttempo trascorso:         18.67125916481018 secondi\n",
      "\t\tcarico:  70  /  221  reviews\t\t\t\ttempo trascorso:        24.094241857528687 secondi\n",
      "\t\tcarico:  90  /  221  reviews\t\t\t\ttempo trascorso:         30.03953504562378 secondi\n",
      "\t\tcarico:  110  /  221  reviews\t\t\t\ttempo trascorso:         36.51871728897095 secondi\n",
      "\t\tcarico:  150  /  221  reviews\t\t\t\ttempo trascorso:         43.67023181915283 secondi\n",
      "\t\tcarico:  200  /  221  reviews\t\t\t\ttempo trascorso:         51.35574436187744 secondi\n",
      "\t\tcarico:  221  /  221  reviews\t\t\t\ttempo trascorso:          59.5178439617157 secondi\n",
      "inizio:  2022-04-16 12:54:50.589684\n",
      "fine:  2022-04-16 12:55:50.107528\n",
      "tempo trascorso:  59.5178439617157  secondi\n",
      "\t\t\terrore durante click more nelle reviews\n",
      "\t\t\terrore durante click more nelle reviews\n",
      "\t\t\terrore durante click more nelle reviews\n",
      "\t\t\terrore durante click more nelle reviews\n",
      "\t dim diz: 127\t<class 'dict'>\n",
      "\n",
      "\n",
      "\tpreparo file per il salvataggio del file ULTIMO_NEG_REVIEWS   ......   \tfile salvato\n",
      "\n",
      "\tpreparo file per il salvataggio del file reviews_KFC_google_maps   ......   \tfile salvato\n",
      "\n",
      "\t\t\tnon trovo la pagina 'accept cookies' oppure è già stata gestita dalla funzione 'init_driver'\n",
      "\n",
      "key :  KFC;230 Mountain Ave, Hackettstown, NJ 07840, Stati Uniti;372\n",
      "NEGIZIO GIA' SALVATO\n",
      "\n",
      "\t\t\tnon trovo la pagina 'accept cookies' oppure è già stata gestita dalla funzione 'init_driver'\n",
      "\n",
      "key :  KFC;650 E Broad St, Hazleton, PA 18201, Stati Uniti;641\n",
      "\n",
      " https://www.google.com/maps/place/KFC/data=!4m5!3m4!1s0x89c5a4741822a3b5:0xdd8e4b7be08963ff!8m2!3d40.9502409!4d-75.9637115?authuser=0&hl=it&rclk=1\n",
      "\n",
      "\tSTART: 2022-04-16 12:56:25.517398 \n",
      "\n",
      "\t\tcarico:  10  /  641  reviews\t\t\t\ttempo trascorso:        2.5765645503997803 secondi\n",
      "\ttentativo:  1\n",
      "\t\tcarico:  10  /  641  reviews\t\t\t\ttempo trascorso:         5.716912269592285 secondi\n",
      "\t\tcarico:  20  /  641  reviews\t\t\t\ttempo trascorso:          9.55168890953064 secondi\n",
      "\t\tcarico:  30  /  641  reviews\t\t\t\ttempo trascorso:        13.807421922683716 secondi\n",
      "\t\tcarico:  50  /  641  reviews\t\t\t\ttempo trascorso:        18.559696197509766 secondi\n",
      "\t\tcarico:  70  /  641  reviews\t\t\t\ttempo trascorso:         23.87889266014099 secondi\n",
      "\t\tcarico:  90  /  641  reviews\t\t\t\ttempo trascorso:        29.742170810699463 secondi\n",
      "\t\tcarico:  110  /  641  reviews\t\t\t\ttempo trascorso:        36.319305419921875 secondi\n",
      "\t\tcarico:  140  /  641  reviews\t\t\t\ttempo trascorso:         43.39138913154602 secondi\n",
      "\t\tcarico:  170  /  641  reviews\t\t\t\ttempo trascorso:         51.06309461593628 secondi\n",
      "\t\tcarico:  210  /  641  reviews\t\t\t\ttempo trascorso:         59.28342080116272 secondi\n",
      "\t\tcarico:  250  /  641  reviews\t\t\t\ttempo trascorso:         68.10430574417114 secondi\n",
      "\t\tcarico:  290  /  641  reviews\t\t\t\ttempo trascorso:         77.74746537208557 secondi\n",
      "\t\tcarico:  340  /  641  reviews\t\t\t\ttempo trascorso:         87.88058662414551 secondi\n",
      "\t\tcarico:  410  /  641  reviews\t\t\t\ttempo trascorso:         99.13153290748596 secondi\n",
      "\t\tcarico:  490  /  641  reviews\t\t\t\ttempo trascorso:        110.85881280899048 secondi\n",
      "\t\tcarico:  570  /  641  reviews\t\t\t\ttempo trascorso:        123.45583963394165 secondi\n",
      "\t\tcarico:  641  /  641  reviews\t\t\t\ttempo trascorso:        136.99592328071594 secondi\n",
      "inizio:  2022-04-16 12:56:25.517398\n",
      "fine:  2022-04-16 12:58:42.513322\n",
      "tempo trascorso:  136.99592328071594  secondi\n",
      "\t\t\terrore durante click more nelle reviews\n",
      "\t\t\terrore durante click more nelle reviews\n",
      "\t\t\terrore durante click more nelle reviews\n",
      "\t\t\terrore durante click more nelle reviews\n",
      "\t dim diz: 128\t<class 'dict'>\n",
      "\n",
      "\n",
      "\tpreparo file per il salvataggio del file ULTIMO_NEG_REVIEWS   ......   \tfile salvato\n",
      "\n",
      "\tpreparo file per il salvataggio del file reviews_KFC_google_maps   ......   \tfile salvato\n",
      "\n",
      "\t\t\tnon trovo la pagina 'accept cookies' oppure è già stata gestita dalla funzione 'init_driver'\n",
      "\n",
      "key :  KFC;104 N Pottstown Pike, Exton, PA 19341, Stati Uniti;668\n",
      "NEGIZIO GIA' SALVATO\n",
      "\n",
      "\t\t\tnon trovo la pagina 'accept cookies' oppure è già stata gestita dalla funzione 'init_driver'\n",
      "\n",
      "key :  KFC;440 Main St, Stroudsburg, PA 18360, Stati Uniti;715\n",
      "\n",
      " https://www.google.com/maps/place/KFC/data=!4m5!3m4!1s0x89c4884f8349cbcd:0xbc246542bf38788f!8m2!3d40.9868637!4d-75.1905314?authuser=0&hl=it&rclk=1\n",
      "\n",
      "\tSTART: 2022-04-16 12:59:50.458666 \n",
      "\n",
      "\t\tcarico:  10  /  715  reviews\t\t\t\ttempo trascorso:         2.578305721282959 secondi\n",
      "\ttentativo:  1\n",
      "\t\tcarico:  10  /  715  reviews\t\t\t\ttempo trascorso:         5.738382816314697 secondi\n",
      "\t\tcarico:  20  /  715  reviews\t\t\t\ttempo trascorso:         9.491470575332642 secondi\n",
      "\t\tcarico:  30  /  715  reviews\t\t\t\ttempo trascorso:        14.098841905593872 secondi\n",
      "\t\tcarico:  50  /  715  reviews\t\t\t\ttempo trascorso:        18.923585653305054 secondi\n",
      "\t\tcarico:  60  /  715  reviews\t\t\t\ttempo trascorso:         24.30888533592224 secondi\n",
      "\t\tcarico:  90  /  715  reviews\t\t\t\ttempo trascorso:         30.22162652015686 secondi\n",
      "\t\tcarico:  110  /  715  reviews\t\t\t\ttempo trascorso:        36.708380699157715 secondi\n",
      "\t\tcarico:  140  /  715  reviews\t\t\t\ttempo trascorso:         43.83280658721924 secondi\n",
      "\t\tcarico:  170  /  715  reviews\t\t\t\ttempo trascorso:         51.48513436317444 secondi\n",
      "\t\tcarico:  210  /  715  reviews\t\t\t\ttempo trascorso:          59.7715528011322 secondi\n",
      "\t\tcarico:  240  /  715  reviews\t\t\t\ttempo trascorso:          68.7548155784607 secondi\n",
      "\t\tcarico:  290  /  715  reviews\t\t\t\ttempo trascorso:         78.55465173721313 secondi\n",
      "\t\tcarico:  330  /  715  reviews\t\t\t\ttempo trascorso:          88.6958646774292 secondi\n",
      "\t\tcarico:  380  /  715  reviews\t\t\t\ttempo trascorso:         99.46398401260376 secondi\n",
      "\t\tcarico:  440  /  715  reviews\t\t\t\ttempo trascorso:        110.93738770484924 secondi\n",
      "\t\tcarico:  520  /  715  reviews\t\t\t\ttempo trascorso:        123.00257062911987 secondi\n",
      "\t\tcarico:  600  /  715  reviews\t\t\t\ttempo trascorso:        136.62687635421753 secondi\n",
      "\t\tcarico:  690  /  715  reviews\t\t\t\ttempo trascorso:         150.8008954524994 secondi\n",
      "\t\tcarico:  715  /  715  reviews\t\t\t\ttempo trascorso:         164.8099241256714 secondi\n",
      "inizio:  2022-04-16 12:59:50.458666\n",
      "fine:  2022-04-16 13:02:35.268590\n",
      "tempo trascorso:  164.8099241256714  secondi\n",
      "\t\t\terrore durante click more nelle reviews\n",
      "\t\t\terrore durante click more nelle reviews\n",
      "\t\t\terrore durante click more nelle reviews\n",
      "\t\t\terrore durante click more nelle reviews\n",
      "\t dim diz: 129\t<class 'dict'>\n",
      "\n",
      "\n",
      "\tpreparo file per il salvataggio del file ULTIMO_NEG_REVIEWS   ......   \tfile salvato\n",
      "\n",
      "\tpreparo file per il salvataggio del file reviews_KFC_google_maps   ......   \tfile salvato\n",
      "\n",
      "\t\t\tnon trovo la pagina 'accept cookies' oppure è già stata gestita dalla funzione 'init_driver'\n",
      "\n",
      "key :  KFC;1833 Main St, Peekskill, NY 10566, Stati Uniti;350\n",
      "NEGIZIO GIA' SALVATO\n",
      "\n",
      "\t\t\tnon trovo la pagina 'accept cookies' oppure è già stata gestita dalla funzione 'init_driver'\n",
      "\n",
      "key :  KFC;1925 Lancaster Ave, Wilmington, DE 19805, Stati Uniti;380\n",
      "NEGIZIO GIA' SALVATO\n",
      "inizio:  2022-04-16 12:52:05.770905\n",
      "fine:  2022-04-16 13:04:08.666254\n",
      "tempo trascorso:  722.895348072052  secondi\n"
     ]
    }
   ],
   "source": [
    "import time \n",
    "import datetime\n",
    "\n",
    "inizio = time.time()\n",
    "start = datetime.datetime.now()\n",
    "%run ./selenium_Google_Maps.py\n",
    "print(\"inizio: \",start)\n",
    "print(\"fine: \",datetime.datetime.now())\n",
    "print(\"tempo trascorso: \",time.time()-inizio,\" secondi\")"
   ]
  },
  {
   "cell_type": "code",
   "execution_count": null,
   "metadata": {
    "scrolled": true
   },
   "outputs": [],
   "source": [
    "# import time \n",
    "# import datetime\n",
    "\n",
    "# inizio = time.time()\n",
    "# start = datetime.datetime.now()\n",
    "# %run ./selenium_Google_Maps.py\n",
    "# print(\"inizio: \",start)\n",
    "# print(\"fine: \",datetime.datetime.now())\n",
    "# print(\"tempo trascorso: \",time.time()-inizio,\" secondi\")"
   ]
  }
 ],
 "metadata": {
  "colab": {
   "collapsed_sections": [],
   "name": "prova_selenium.ipynb",
   "provenance": []
  },
  "kernelspec": {
   "display_name": "Python 3",
   "language": "python",
   "name": "python3"
  },
  "language_info": {
   "codemirror_mode": {
    "name": "ipython",
    "version": 3
   },
   "file_extension": ".py",
   "mimetype": "text/x-python",
   "name": "python",
   "nbconvert_exporter": "python",
   "pygments_lexer": "ipython3",
   "version": "3.8.5"
  }
 },
 "nbformat": 4,
 "nbformat_minor": 4
}

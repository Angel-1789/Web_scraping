{
 "cells": [
  {
   "cell_type": "code",
   "execution_count": null,
   "metadata": {},
   "outputs": [],
   "source": [
    "from funzioni.LEGGI_SCRIVI_DIC import *\n",
    "\n",
    "reviews_gm = carica(\"reviews_kfc_google_maps\")\n",
    "print(\"\\n\",len(reviews_gm))"
   ]
  },
  {
   "cell_type": "code",
   "execution_count": null,
   "metadata": {},
   "outputs": [],
   "source": [
    "print(\"KFC;1865 Easton Rd, Willow Grove, PA 19090, Stati Uniti;670\" in reviews_gm)"
   ]
  },
  {
   "cell_type": "code",
   "execution_count": null,
   "metadata": {},
   "outputs": [],
   "source": [
    "for i in reviews_gm:\n",
    "    print(i)"
   ]
  },
  {
   "cell_type": "code",
   "execution_count": null,
   "metadata": {},
   "outputs": [],
   "source": [
    "from funzioni.LEGGI_SCRIVI_DIC import *\n",
    "from funzioni.Selenium_google_maps.estrai_negozi_da_GM import *\n",
    "from funzioni.Selenium_google_maps.estrai_reviews_Google_maps import *"
   ]
  },
  {
   "cell_type": "code",
   "execution_count": null,
   "metadata": {},
   "outputs": [],
   "source": [
    "PATH_DRIVER = 'chromedriver_win32/chromedriver.exe'\n",
    "LINK = 'https://www.google.com/maps/search/KFC/@40.5436561,-74.8041535,9z'\n",
    "driver = webdriver.Chrome(PATH_DRIVER)\n",
    "driver = init_driver(LINK, driver)"
   ]
  },
  {
   "cell_type": "code",
   "execution_count": null,
   "metadata": {},
   "outputs": [],
   "source": [
    "# link = 'https://www.google.com/maps/place/KFC/@40.878706,-74.6507991,17z/data=!4m5!3m4!1s0x89c39e2fb28cde9f:0x494cd3021be22f08!8m2!3d40.8787137!4d-74.6486518?authuser=0&hl=it'\n",
    "link = 'https://www.google.com/maps/place/KFC/@39.6910617,-74.9939855,15z/data=!4m5!3m4!1s0x0:0x86f2d2fdc9c95132!8m2!3d39.6910617!4d-74.9939855'\n",
    "driver = store_pages(link, driver)        \n",
    "driver.switch_to.window(driver.window_handles[1])"
   ]
  },
  {
   "cell_type": "code",
   "execution_count": null,
   "metadata": {},
   "outputs": [],
   "source": [
    "nome = driver.find_element_by_xpath('//*[contains(concat( \" \", @class, \" \" ), concat( \" \", \"fontHeadlineLarge\", \" \" ))] | //*[contains(concat( \" \", @class, \" \" ), concat( \" \", \"fontHeadlineLarge\", \" \" ))]//span').text\n",
    "n = driver.find_element_by_xpath('//*[contains(concat( \" \", @class, \" \" ), concat( \" \", \"Yr7JMd-pane-hSRGPd\", \" \" ))]').text\n",
    "n_reviews = ((n.split())[0]).replace('.','')"
   ]
  },
  {
   "cell_type": "code",
   "execution_count": null,
   "metadata": {},
   "outputs": [],
   "source": [
    "address1 = (driver.find_elements_by_xpath(\"//div[@class='Io6YTe fontBodyMedium']\"))[0].text\n",
    "# address1 = driver.find_elements_by_class_name(\"Io6YTe fontBodyMedium\")\n",
    "# address = driver.find_elements_by_xpath(\"//button[@aria-label='Copia indirizzo']\")\n",
    "\n",
    "\n",
    "# print(len(address1))\n",
    "print(address1)"
   ]
  },
  {
   "cell_type": "code",
   "execution_count": null,
   "metadata": {},
   "outputs": [],
   "source": [
    "count = 1\n",
    "for i in address1:\n",
    "    print(i.text)\n",
    "    print(\"\\t\\t\\t\\t\\t\\t\\t---------------------------------------------------------------------------\")\n",
    "    print(count)\n",
    "    count+=1"
   ]
  },
  {
   "cell_type": "code",
   "execution_count": null,
   "metadata": {},
   "outputs": [],
   "source": [
    "print(nome)\n",
    "print(n_reviews)"
   ]
  }
 ],
 "metadata": {
  "kernelspec": {
   "display_name": "Python 3",
   "language": "python",
   "name": "python3"
  },
  "language_info": {
   "codemirror_mode": {
    "name": "ipython",
    "version": 3
   },
   "file_extension": ".py",
   "mimetype": "text/x-python",
   "name": "python",
   "nbconvert_exporter": "python",
   "pygments_lexer": "ipython3",
   "version": "3.8.5"
  }
 },
 "nbformat": 4,
 "nbformat_minor": 4
}
